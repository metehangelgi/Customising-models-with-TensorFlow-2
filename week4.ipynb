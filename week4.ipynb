{
  "cells": [
    {
      "cell_type": "markdown",
      "metadata": {
        "id": "view-in-github",
        "colab_type": "text"
      },
      "source": [
        "<a href=\"https://colab.research.google.com/github/metehangelgi/Customising-models-with-TensorFlow-2/blob/master/week4.ipynb\" target=\"_parent\"><img src=\"https://colab.research.google.com/assets/colab-badge.svg\" alt=\"Open In Colab\"/></a>"
      ]
    },
    {
      "cell_type": "code",
      "execution_count": 1,
      "metadata": {
        "id": "-aFk5USNeMJy",
        "colab": {
          "base_uri": "https://localhost:8080/"
        },
        "outputId": "97fcb3ef-7a4f-4f7f-c92d-2bfb7c5030c7"
      },
      "outputs": [
        {
          "output_type": "stream",
          "name": "stdout",
          "text": [
            "2.8.2\n"
          ]
        }
      ],
      "source": [
        "import tensorflow as tf\n",
        "print(tf.__version__)"
      ]
    },
    {
      "cell_type": "markdown",
      "metadata": {
        "id": "L1ktkfeneMJ5"
      },
      "source": [
        "# Model subclassing and custom training loops"
      ]
    },
    {
      "cell_type": "markdown",
      "metadata": {
        "id": "9C6R3XQxeMJ7"
      },
      "source": [
        " ## Coding tutorials\n",
        " #### [1. Model subclassing](#coding_tutorial_1)\n",
        " #### [2. Custom layers](#coding_tutorial_2)\n",
        " #### [3. Automatic differentiation](#coding_tutorial_3)\n",
        " #### [4. Custom training loops](#coding_tutorial_4)\n",
        " #### [5. tf.function decorator](#coding_tutorial_5)"
      ]
    },
    {
      "cell_type": "markdown",
      "metadata": {
        "id": "FrjbRhbeeMJ8"
      },
      "source": [
        "***\n",
        "<a id=\"coding_tutorial_1\"></a>\n",
        "## Model subclassing"
      ]
    },
    {
      "cell_type": "code",
      "execution_count": 2,
      "metadata": {
        "id": "cG_BHQhGeMJ9"
      },
      "outputs": [],
      "source": [
        "from tensorflow.keras.models import Model\n",
        "from tensorflow.keras.layers import Dense, Dropout, Softmax, concatenate"
      ]
    },
    {
      "cell_type": "markdown",
      "metadata": {
        "id": "rdK83BHVeMJ-"
      },
      "source": [
        "#### Create a simple model using the model subclassing API"
      ]
    },
    {
      "cell_type": "code",
      "execution_count": null,
      "metadata": {
        "id": "DgO_CR1YeMJ_"
      },
      "outputs": [],
      "source": [
        "# Build the model\n",
        "\n",
        "class MyModel(Model):\n",
        "\n",
        "  def __init__(self) -> None:\n",
        "      super(MyModel,self).__init__()\n",
        "      self.dense_1 = Dense(64,activation='relu')\n",
        "      self.dense_2 = Dense(10)\n",
        "      self.dropout = Dropout(0.4)\n",
        "    \n",
        "  def call(self,inputs,training=True):\n",
        "    x = self.dense_1(inputs)\n",
        "    if training:\n",
        "      x = self.dropout(x)\n",
        "    return self.dense_2(x)\n",
        "\n",
        "  \n"
      ]
    },
    {
      "cell_type": "code",
      "source": [
        "class MyModel(Model):\n",
        "\n",
        "  def __init__(self) -> None:\n",
        "      super(MyModel,self).__init__()\n",
        "      self.dense_1 = Dense(64,activation='relu')\n",
        "      self.dense_2 = Dense(10)\n",
        "      self.dense_3 = Dense(5)\n",
        "      self.softmax = Softmax()\n",
        "    \n",
        "  def call(self,inputs):\n",
        "    x = self.dense_1(inputs)\n",
        "    y1 = self.dense_2(inputs)\n",
        "    y2 = self.dense_3(y1)\n",
        "    concat = concatenate([x,y2])\n",
        "    return self.softmax(concat)"
      ],
      "metadata": {
        "id": "bUtXpi8-w-kd"
      },
      "execution_count": null,
      "outputs": []
    },
    {
      "cell_type": "code",
      "execution_count": null,
      "metadata": {
        "id": "NSuT7a7deMKA",
        "colab": {
          "base_uri": "https://localhost:8080/"
        },
        "outputId": "6d1fac2a-dba0-4142-bc58-34de9527ad30"
      },
      "outputs": [
        {
          "output_type": "stream",
          "name": "stdout",
          "text": [
            "Model: \"my_model_6\"\n",
            "_________________________________________________________________\n",
            " Layer (type)                Output Shape              Param #   \n",
            "=================================================================\n",
            " dense_13 (Dense)            multiple                  704       \n",
            "                                                                 \n",
            " dense_14 (Dense)            multiple                  110       \n",
            "                                                                 \n",
            " dense_15 (Dense)            multiple                  55        \n",
            "                                                                 \n",
            " softmax_1 (Softmax)         multiple                  0         \n",
            "                                                                 \n",
            "=================================================================\n",
            "Total params: 869\n",
            "Trainable params: 869\n",
            "Non-trainable params: 0\n",
            "_________________________________________________________________\n"
          ]
        }
      ],
      "source": [
        "# Print the model summary\n",
        "\n",
        "model = MyModel()\n",
        "model(tf.random.uniform([1,10]))\n",
        "model.summary()"
      ]
    },
    {
      "cell_type": "markdown",
      "metadata": {
        "id": "VGW_LN-leMKA"
      },
      "source": [
        "***\n",
        "<a id=\"coding_tutorial_2\"></a>\n",
        "## Custom layers"
      ]
    },
    {
      "cell_type": "code",
      "execution_count": null,
      "metadata": {
        "id": "XVRzhkZaeMKB"
      },
      "outputs": [],
      "source": [
        "from tensorflow.keras.models import Model\n",
        "from tensorflow.keras.layers import Layer, Softmax"
      ]
    },
    {
      "cell_type": "code",
      "source": [
        "import tensorflow as tf\n",
        "from tensorflow.keras.layers import Layer\n",
        "\n",
        "class MyCustomLayer(Layer):\n",
        "\n",
        "    def __init__(self, input_dim, eps):\n",
        "        super(MyCustomLayer, self).__init__()\n",
        "        self.c = eps * tf.ones((input_dim,))\n",
        "\n",
        "    def call(self, inputs):\n",
        "        return tf.reduce_sum(inputs, axis=0) + self.c"
      ],
      "metadata": {
        "id": "KBmm3ujE025Q"
      },
      "execution_count": null,
      "outputs": []
    },
    {
      "cell_type": "code",
      "source": [
        "layer = MyCustomLayer(3, 0.1)\n",
        "x = tf.ones((2, 3))\n",
        "print(layer(x).numpy())"
      ],
      "metadata": {
        "colab": {
          "base_uri": "https://localhost:8080/"
        },
        "id": "yfqwMyrl04pw",
        "outputId": "04c3b0fc-b758-4f1c-cdd7-5a211ac8d5e0"
      },
      "execution_count": null,
      "outputs": [
        {
          "output_type": "stream",
          "name": "stdout",
          "text": [
            "[2.1 2.1 2.1]\n"
          ]
        }
      ]
    },
    {
      "cell_type": "markdown",
      "metadata": {
        "id": "uMhmbQTmeMKC"
      },
      "source": [
        "#### Create custom layers"
      ]
    },
    {
      "cell_type": "code",
      "execution_count": null,
      "metadata": {
        "id": "Qvw_lyDHeMKC",
        "colab": {
          "base_uri": "https://localhost:8080/"
        },
        "outputId": "eb124061-58be-406b-87da-6bb4d626bf3a"
      },
      "outputs": [
        {
          "output_type": "stream",
          "name": "stdout",
          "text": [
            "tf.Tensor([[ 0.18364517  0.08020084 -0.07345802]], shape=(1, 3), dtype=float32)\n",
            "[<tf.Variable 'Variable:0' shape=(5, 3) dtype=float32, numpy=\n",
            "array([[ 0.06302956,  0.02473576, -0.06242047],\n",
            "       [-0.0202798 ,  0.06948622, -0.05225272],\n",
            "       [ 0.06694084,  0.00570662,  0.00709779],\n",
            "       [ 0.05836075,  0.01097722, -0.00320997],\n",
            "       [ 0.01559383, -0.03070498,  0.03732734]], dtype=float32)>, <tf.Variable 'Variable:0' shape=(3,) dtype=float32, numpy=array([0., 0., 0.], dtype=float32)>]\n"
          ]
        }
      ],
      "source": [
        "# Create a custom layer\n",
        "\n",
        "class MyCustomLayer(Layer):\n",
        "\n",
        "    def __init__(self, units,input_dim):\n",
        "        super(MyCustomLayer, self).__init__()\n",
        "        self.w = self.add_weight(shape=(input_dim,units),\n",
        "                                 initializer='random_normal')\n",
        "        self.b = self.add_weight(shape=(units,),\n",
        "                                 initializer='zeros')\n",
        "\n",
        "    def call(self, inputs):\n",
        "        return tf.matmul(inputs, self.w) + self.b\n",
        "\n",
        "\n",
        "dense_layer = MyCustomLayer(3,5)\n",
        "x = tf.ones((1,5))\n",
        "print(dense_layer(x))\n",
        "print(dense_layer.weights)"
      ]
    },
    {
      "cell_type": "code",
      "execution_count": null,
      "metadata": {
        "id": "m3TdjB8feMKD"
      },
      "outputs": [],
      "source": [
        "# Specify trainable weights\n",
        "\n",
        "class MyCustomLayerMean(Layer):\n",
        "\n",
        "    def __init__(self, units,input_dim):\n",
        "        super(MyCustomLayerMean, self).__init__()\n",
        "        self.w = self.add_weight(shape=(input_dim,units),\n",
        "                                 initializer='random_normal',trainable=False)\n",
        "        self.b = self.add_weight(shape=(units,),\n",
        "                                 initializer='zeros')\n",
        "\n",
        "    def call(self, inputs):\n",
        "        return tf.matmul(inputs, self.w) + self.b\n",
        "\n",
        "\n",
        "dense_layer = MyCustomLayerMean(3,5)"
      ]
    },
    {
      "cell_type": "code",
      "execution_count": null,
      "metadata": {
        "id": "dTHzlKFIeMKE",
        "colab": {
          "base_uri": "https://localhost:8080/"
        },
        "outputId": "d5762562-1e60-4966-e833-901b2eef61ee"
      },
      "outputs": [
        {
          "output_type": "stream",
          "name": "stdout",
          "text": [
            "trainable weights: 1\n",
            "non-trainable weights: 1\n"
          ]
        }
      ],
      "source": [
        "print('trainable weights:', len(dense_layer.trainable_weights))\n",
        "print('non-trainable weights:', len(dense_layer.non_trainable_weights))"
      ]
    },
    {
      "cell_type": "code",
      "execution_count": null,
      "metadata": {
        "id": "V_YdhofSeMKG"
      },
      "outputs": [],
      "source": [
        "# Create a custom layer to accumulate means of output values\n",
        "\n",
        "class MyCustomLayerMean(Layer):\n",
        "\n",
        "    def __init__(self, units,input_dim):\n",
        "        super(MyCustomLayerMean, self).__init__()\n",
        "        self.w = self.add_weight(shape=(input_dim,units),\n",
        "                                 initializer='random_normal',trainable=False)\n",
        "        self.b = self.add_weight(shape=(units,),\n",
        "                                 initializer='zeros')\n",
        "        self.sum_activation = tf.Variable(initial_value=tf.zeros((units,)),\n",
        "                                          trainable=False)\n",
        "        self.number_call = tf.Variable(initial_value=0,\n",
        "                                          trainable=False)\n",
        "\n",
        "    def call(self, inputs):\n",
        "        activations = tf.matmul(inputs, self.w) + self.b\n",
        "        self.sum_activation.assign_add(tf.reduce_sum(activations,axis=0))\n",
        "        self.number_call.assign_add(inputs.shape[0])\n",
        "        return activations,self.sum_activation/tf.cast(self.number_call,tf.float32)\n",
        "\n",
        "\n",
        "dense_layer = MyCustomLayerMean(3,5)"
      ]
    },
    {
      "cell_type": "code",
      "execution_count": null,
      "metadata": {
        "id": "ngOzbTPYeMKK",
        "colab": {
          "base_uri": "https://localhost:8080/"
        },
        "outputId": "b3c2fd5c-76fe-4376-e125-0a1996f5142b"
      },
      "outputs": [
        {
          "output_type": "stream",
          "name": "stdout",
          "text": [
            "[-0.09631738  0.05971048  0.01527474]\n"
          ]
        }
      ],
      "source": [
        "# Test the layer\n",
        "\n",
        "y, activation_means = dense_layer(tf.ones((1, 5)))\n",
        "print(activation_means.numpy())"
      ]
    },
    {
      "cell_type": "code",
      "execution_count": null,
      "metadata": {
        "id": "IuS0IJjTeMKM"
      },
      "outputs": [],
      "source": [
        "# Create a Dropout layer as a custom layer\n",
        "\n",
        "class MyDropout(Layer):\n",
        "\n",
        "    def __init__(self, rate):\n",
        "        super(MyDropout, self).__init__()\n",
        "        self.rate = rate\n",
        "        \n",
        "    def call(self, inputs):\n",
        "        # Define forward pass for dropout layer\n",
        "        return tf.nn.dropout(inputs,rate=self.rate)"
      ]
    },
    {
      "cell_type": "markdown",
      "metadata": {
        "id": "RYBCVwDSeMKN"
      },
      "source": [
        "#### Implement the custom layers into a model"
      ]
    },
    {
      "cell_type": "code",
      "execution_count": null,
      "metadata": {
        "id": "4tEWxGgqeMKO"
      },
      "outputs": [],
      "source": [
        "# Build the model using custom layers with the model subclassing API\n",
        "\n",
        "class MyModel(Model):\n",
        "\n",
        "    def __init__(self, units_1, input_dim_1, units_2, units_3):\n",
        "        super(MyModel, self).__init__()\n",
        "        # Define layers\n",
        "        self.layer_1 = MyCustomLayer(units_1,input_dim_1)\n",
        "        self.dropout_1=MyDropout(0.5)\n",
        "        self.layer_2 = MyCustomLayer(units_2,units_1)\n",
        "        self.dropout_2=MyDropout(0.5)\n",
        "        self.layer_3 = MyCustomLayer(units_3,units_2)\n",
        "        self.softmax = Softmax()\n",
        "           \n",
        "    def call(self, inputs):\n",
        "        # Define forward pass\n",
        "        x = self.layer_1(inputs)\n",
        "        x = tf.nn.relu(x)\n",
        "        x = self.dropout_1(x)\n",
        "        x = self.layer_2(x)\n",
        "        x = tf.nn.relu(x)\n",
        "        x = self.dropout_2(x)\n",
        "        x = self.layer_3(x)\n",
        "        return self.softmax(x)"
      ]
    },
    {
      "cell_type": "code",
      "execution_count": null,
      "metadata": {
        "id": "DULJfkLIeMKP",
        "colab": {
          "base_uri": "https://localhost:8080/"
        },
        "outputId": "887d40e9-d5cb-40f7-ee92-476c65738171"
      },
      "outputs": [
        {
          "output_type": "stream",
          "name": "stdout",
          "text": [
            "tf.Tensor(\n",
            "[[0.01029832 0.01345157 0.01288406 0.0371336  0.02134674 0.01151785\n",
            "  0.03197777 0.05613982 0.01255021 0.00809189 0.01890863 0.05151242\n",
            "  0.00777752 0.04502559 0.02502188 0.01186482 0.02706838 0.01328675\n",
            "  0.01311611 0.01832021 0.03491406 0.03505437 0.02105129 0.05882832\n",
            "  0.00209636 0.01951495 0.00910748 0.02020453 0.0088842  0.02636185\n",
            "  0.01269222 0.03999658 0.01651155 0.01029755 0.01942688 0.01940679\n",
            "  0.01834516 0.01436114 0.02151956 0.02604057 0.02961475 0.00892221\n",
            "  0.0305973  0.01417349 0.01046635 0.02431638]], shape=(1, 46), dtype=float32)\n",
            "Model: \"my_model_10\"\n",
            "_________________________________________________________________\n",
            " Layer (type)                Output Shape              Param #   \n",
            "=================================================================\n",
            " my_custom_layer_9 (MyCustom  multiple                 640064    \n",
            " Layer)                                                          \n",
            "                                                                 \n",
            " my_dropout_2 (MyDropout)    multiple                  0         \n",
            "                                                                 \n",
            " my_custom_layer_10 (MyCusto  multiple                 4160      \n",
            " mLayer)                                                         \n",
            "                                                                 \n",
            " my_dropout_3 (MyDropout)    multiple                  0         \n",
            "                                                                 \n",
            " my_custom_layer_11 (MyCusto  multiple                 2990      \n",
            " mLayer)                                                         \n",
            "                                                                 \n",
            " softmax_3 (Softmax)         multiple                  0         \n",
            "                                                                 \n",
            "=================================================================\n",
            "Total params: 647,214\n",
            "Trainable params: 174\n",
            "Non-trainable params: 647,040\n",
            "_________________________________________________________________\n"
          ]
        }
      ],
      "source": [
        "# Instantiate a model object\n",
        "\n",
        "model = MyModel(64,10000,64,46)\n",
        "print(model(tf.ones((1, 10000))))\n",
        "model.summary()"
      ]
    },
    {
      "cell_type": "markdown",
      "metadata": {
        "id": "Qv4vX0BIeMKQ"
      },
      "source": [
        "***\n",
        "<a id=\"coding_tutorial_3\"></a>\n",
        "## Automatic differentiation"
      ]
    },
    {
      "cell_type": "code",
      "execution_count": null,
      "metadata": {
        "id": "vogjhUoseMKT"
      },
      "outputs": [],
      "source": [
        "import numpy as np\n",
        "import matplotlib.pyplot as plt"
      ]
    },
    {
      "cell_type": "code",
      "source": [
        "import tensorflow as tf\n",
        "\n",
        "x = tf.constant([-1, 0, 1], dtype=tf.float32)\n",
        "\n",
        "with tf.GradientTape() as tape:\n",
        "    tape.watch(x)\n",
        "    y = tf.math.exp(x)\n",
        "    z = 2 * tf.reduce_sum(y)\n",
        "    dz_dx = tape.gradient(z, x)\n",
        "dz_dx"
      ],
      "metadata": {
        "colab": {
          "base_uri": "https://localhost:8080/"
        },
        "id": "mbzwKRvZIrJm",
        "outputId": "1887a260-7293-4271-f465-ac9a3c7fff0b"
      },
      "execution_count": null,
      "outputs": [
        {
          "output_type": "execute_result",
          "data": {
            "text/plain": [
              "<tf.Tensor: shape=(3,), dtype=float32, numpy=array([0.7357589, 2.       , 5.4365635], dtype=float32)>"
            ]
          },
          "metadata": {},
          "execution_count": 54
        }
      ]
    },
    {
      "cell_type": "markdown",
      "metadata": {
        "id": "okkRhhESeMKU"
      },
      "source": [
        "#### Create synthetic data"
      ]
    },
    {
      "cell_type": "code",
      "execution_count": null,
      "metadata": {
        "id": "TLQ396vReMKY",
        "colab": {
          "base_uri": "https://localhost:8080/",
          "height": 282
        },
        "outputId": "84c3ae79-be18-4184-ac1a-1d19bded4681"
      },
      "outputs": [
        {
          "output_type": "execute_result",
          "data": {
            "text/plain": [
              "[<matplotlib.lines.Line2D at 0x7fb3e9748790>]"
            ]
          },
          "metadata": {},
          "execution_count": 52
        },
        {
          "output_type": "display_data",
          "data": {
            "text/plain": [
              "<Figure size 432x288 with 1 Axes>"
            ],
            "image/png": "[encoded data removed]"
          },
          "metadata": {
            "needs_background": "light"
          }
        }
      ],
      "source": [
        "# Create data from a noise contaminated linear model\n",
        "\n",
        "def MakeNoisyData(m, b, n=20):\n",
        "    x = tf.random.uniform(shape=(n,))\n",
        "    noise = tf.random.normal(shape=(len(x),), stddev=0.1)\n",
        "    y = m * x + b + noise\n",
        "    return x, y\n",
        "\n",
        "m=1\n",
        "b=2\n",
        "x_train, y_train = MakeNoisyData(m,b)\n",
        "plt.plot(x_train, y_train, 'b.')"
      ]
    },
    {
      "cell_type": "markdown",
      "metadata": {
        "id": "gN9zjJwweMKa"
      },
      "source": [
        "#### Define a linear regression model"
      ]
    },
    {
      "cell_type": "code",
      "execution_count": null,
      "metadata": {
        "id": "cYSSHfFieMKb"
      },
      "outputs": [],
      "source": [
        "from tensorflow.keras.layers import Layer"
      ]
    },
    {
      "cell_type": "code",
      "execution_count": null,
      "metadata": {
        "id": "zSYDsMRGeMKc",
        "colab": {
          "base_uri": "https://localhost:8080/"
        },
        "outputId": "cfcd6578-e2e3-4045-be4e-d8679c6203ba"
      },
      "outputs": [
        {
          "output_type": "stream",
          "name": "stdout",
          "text": [
            "tf.Tensor(\n",
            "[-0.07113207 -0.07190005 -0.11188765 -0.09003721 -0.11227759 -0.08647102\n",
            " -0.0992355  -0.07154488 -0.10948616 -0.11019404 -0.09192386 -0.08824315\n",
            " -0.10329686 -0.11432215 -0.07679805 -0.10761653 -0.08303129 -0.085392\n",
            " -0.0786797  -0.11072386], shape=(20,), dtype=float32)\n",
            "[<tf.Variable 'Variable:0' shape=(1,) dtype=float32, numpy=array([-0.05167601], dtype=float32)>, <tf.Variable 'Variable:0' shape=(1,) dtype=float32, numpy=array([-0.06738173], dtype=float32)>]\n"
          ]
        }
      ],
      "source": [
        "# Build a custom layer for the linear regression model\n",
        "\n",
        "class LineerLayer(Layer):\n",
        "  def __init__(self):\n",
        "    super(LineerLayer,self).__init__()\n",
        "    self.m = self.add_weight(shape=(1,),\n",
        "                             initializer='random_normal')\n",
        "    self.b = self.add_weight(shape=(1,),\n",
        "                             initializer='random_normal')\n",
        "    \n",
        "  def call(self,inputs):\n",
        "    return self.m*inputs+self.b\n",
        "  \n",
        "\n",
        "linear_regression = LineerLayer()\n",
        "\n",
        "print(linear_regression(x_train))\n",
        "print(linear_regression.weights)"
      ]
    },
    {
      "cell_type": "markdown",
      "metadata": {
        "id": "kHdGkTRbeMKd"
      },
      "source": [
        "#### Define the loss function"
      ]
    },
    {
      "cell_type": "code",
      "execution_count": null,
      "metadata": {
        "id": "lncWGgYPeMKe",
        "colab": {
          "base_uri": "https://localhost:8080/"
        },
        "outputId": "ab0724db-081a-435f-91ff-92ecfaa931e7"
      },
      "outputs": [
        {
          "output_type": "stream",
          "name": "stdout",
          "text": [
            "Starting loss 6.6839743\n"
          ]
        }
      ],
      "source": [
        "# Define the mean squared error loss function\n",
        "\n",
        "def SquaredError(y_pred, y_true):\n",
        "    return tf.reduce_mean(tf.square(y_pred - y_true)) \n",
        "\n",
        "starting_loss = SquaredError(linear_regression(x_train), y_train)\n",
        "print(\"Starting loss\", starting_loss.numpy())"
      ]
    },
    {
      "cell_type": "markdown",
      "metadata": {
        "id": "yAUfyyH-eMKg"
      },
      "source": [
        "#### Train and plot the model"
      ]
    },
    {
      "cell_type": "code",
      "execution_count": null,
      "metadata": {
        "id": "WxEtMZ9AeMKi",
        "colab": {
          "base_uri": "https://localhost:8080/"
        },
        "outputId": "0e39d221-3248-4fee-ce14-7f2792aee679"
      },
      "outputs": [
        {
          "output_type": "stream",
          "name": "stdout",
          "text": [
            "Step 0 Loss 1.948193\n",
            "Step 1 Loss 1.543435\n",
            "Step 2 Loss 1.234732\n",
            "Step 3 Loss 0.999115\n",
            "Step 4 Loss 0.819108\n",
            "Step 5 Loss 0.681416\n",
            "Step 6 Loss 0.575926\n",
            "Step 7 Loss 0.494944\n",
            "Step 8 Loss 0.432614\n",
            "Step 9 Loss 0.384485\n",
            "Step 10 Loss 0.347168\n",
            "Step 11 Loss 0.318086\n",
            "Step 12 Loss 0.295278\n",
            "Step 13 Loss 0.277251\n",
            "Step 14 Loss 0.262871\n",
            "Step 15 Loss 0.251273\n",
            "Step 16 Loss 0.241802\n",
            "Step 17 Loss 0.233956\n",
            "Step 18 Loss 0.227355\n",
            "Step 19 Loss 0.221709\n",
            "Step 20 Loss 0.216799\n",
            "Step 21 Loss 0.212456\n",
            "Step 22 Loss 0.208553\n",
            "Step 23 Loss 0.204992\n",
            "Step 24 Loss 0.201699\n"
          ]
        }
      ],
      "source": [
        "# Implement a gradient descent training loop for the linear regression model\n",
        "\n",
        "learning_rate = 0.05\n",
        "steps = 25\n",
        "\n",
        "for i in range(steps):\n",
        "  with tf.GradientTape() as tape:\n",
        "    predictions = linear_regression(x_train)\n",
        "    loss = SquaredError(predictions,y_train)\n",
        "\n",
        "    gradients = tape.gradient(loss,linear_regression.trainable_variables)\n",
        "\n",
        "    linear_regression.m.assign_sub(learning_rate * gradients[0])\n",
        "    linear_regression.b.assign_sub(learning_rate * gradients[1])\n",
        "\n",
        "    print('Step %d Loss %f' % (i,loss.numpy()))"
      ]
    },
    {
      "cell_type": "code",
      "execution_count": null,
      "metadata": {
        "id": "v1sfR1a3eMKq",
        "colab": {
          "base_uri": "https://localhost:8080/",
          "height": 319
        },
        "outputId": "df56adac-8eb0-4cd1-e6ba-d3b2135c1b98"
      },
      "outputs": [
        {
          "output_type": "stream",
          "name": "stdout",
          "text": [
            "m:1,  trained m:[2.592371]\n",
            "b:2,  trained b:[1.0511782]\n"
          ]
        },
        {
          "output_type": "execute_result",
          "data": {
            "text/plain": [
              "[<matplotlib.lines.Line2D at 0x7fb3e80c1bd0>]"
            ]
          },
          "metadata": {},
          "execution_count": 62
        },
        {
          "output_type": "display_data",
          "data": {
            "text/plain": [
              "<Figure size 432x288 with 1 Axes>"
            ],
            "image/png": "[encoded data removed]"
          },
          "metadata": {
            "needs_background": "light"
          }
        }
      ],
      "source": [
        "# Plot the learned regression model\n",
        "\n",
        "print(\"m:{},  trained m:{}\".format(m,linear_regression.m.numpy()))\n",
        "print(\"b:{},  trained b:{}\".format(b,linear_regression.b.numpy()))\n",
        "\n",
        "plt.plot(x_train, y_train, 'b.')\n",
        "\n",
        "x_linear_regression=np.linspace(min(x_train), max(x_train),50)\n",
        "plt.plot(x_linear_regression, linear_regression.m*x_linear_regression+linear_regression.b, 'r.')"
      ]
    },
    {
      "cell_type": "markdown",
      "metadata": {
        "id": "1-Gp501seMKr"
      },
      "source": [
        "***\n",
        "<a id=\"coding_tutorial_4\"></a>\n",
        "## Custom training loops"
      ]
    },
    {
      "cell_type": "code",
      "source": [
        "# do no run \n",
        "import tensorflow as tf\n",
        "\n",
        "for epoch in range(10):\n",
        "\tfor inputs, outputs in training_dataset:\n",
        "\t\twith tf.GradientTape() as tape:\n",
        "\t\t    current_loss = loss(my_model(inputs), outputs)\n",
        "\t\t    grads = tape.gradient(current_loss, my_model.trainable_variables)\n",
        "\t\toptimizer.apply_gradients(zip(grads, my_model.trainable_variables))"
      ],
      "metadata": {
        "id": "dzbQ4oEEZ02s"
      },
      "execution_count": null,
      "outputs": []
    },
    {
      "cell_type": "code",
      "execution_count": 3,
      "metadata": {
        "id": "SlFNSXbLeMKs"
      },
      "outputs": [],
      "source": [
        "import numpy as np\n",
        "import matplotlib.pyplot as plt\n",
        "import time"
      ]
    },
    {
      "cell_type": "markdown",
      "metadata": {
        "id": "uEWUv6apeMKy"
      },
      "source": [
        "#### Build the model"
      ]
    },
    {
      "cell_type": "code",
      "execution_count": 4,
      "metadata": {
        "id": "nbLPHg1ReMK0"
      },
      "outputs": [],
      "source": [
        "from tensorflow.keras.models import Model\n",
        "from tensorflow.keras.layers import Layer, Softmax"
      ]
    },
    {
      "cell_type": "code",
      "execution_count": 7,
      "metadata": {
        "id": "PsoPieGIeMK3"
      },
      "outputs": [],
      "source": [
        "# Define the custom layers and model\n",
        "\n",
        "class MyCustomLayer(Layer):\n",
        "\n",
        "    def __init__(self, units):\n",
        "        super(MyCustomLayer, self).__init__()\n",
        "        self.units=units\n",
        "\n",
        "    def build(self,input_shape):\n",
        "        self.w = self.add_weight(shape=(input_shape[-1],self.units),\n",
        "                                 initializer='random_normal',\n",
        "                                 name='kernel')\n",
        "        self.b = self.add_weight(shape=(self.units,),\n",
        "                                 initializer='zeros',\n",
        "                                 name='bias')\n",
        "\n",
        "    def call(self, inputs):\n",
        "        return tf.matmul(inputs, self.w) + self.b\n",
        "\n",
        "class MyDropout(Layer):\n",
        "\n",
        "    def __init__(self, rate):\n",
        "        super(MyDropout, self).__init__()\n",
        "        self.rate = rate\n",
        "        \n",
        "    def call(self, inputs):\n",
        "        # Define forward pass for dropout layer\n",
        "        return tf.nn.dropout(inputs,rate=self.rate)\n",
        "\n",
        "class MyModel(Model):\n",
        "\n",
        "    def __init__(self, units_1, units_2, units_3):\n",
        "        super(MyModel, self).__init__()\n",
        "        # Define layers\n",
        "        self.layer_1 = MyCustomLayer(units_1)\n",
        "        self.dropout_1=MyDropout(0.5)\n",
        "        self.layer_2 = MyCustomLayer(units_2)\n",
        "        self.dropout_2=MyDropout(0.5)\n",
        "        self.layer_3 = MyCustomLayer(units_3)\n",
        "        self.softmax = Softmax()\n",
        "           \n",
        "    def call(self, inputs):\n",
        "        # Define forward pass\n",
        "        x = self.layer_1(inputs)\n",
        "        x = tf.nn.relu(x)\n",
        "        x = self.dropout_1(x)\n",
        "        x = self.layer_2(x)\n",
        "        x = tf.nn.relu(x)\n",
        "        x = self.dropout_2(x)\n",
        "        x = self.layer_3(x)\n",
        "        return self.softmax(x)"
      ]
    },
    {
      "cell_type": "code",
      "source": [
        "# Instantiate a model object\n",
        "\n",
        "model = MyModel(64,64,46)\n",
        "print(model(tf.ones((1, 10000))))\n",
        "model.summary()"
      ],
      "metadata": {
        "colab": {
          "base_uri": "https://localhost:8080/"
        },
        "id": "rRxZY7dZmEDE",
        "outputId": "5c54c0e3-b51f-42e0-c17c-c044afbde4f3"
      },
      "execution_count": 8,
      "outputs": [
        {
          "output_type": "stream",
          "name": "stdout",
          "text": [
            "tf.Tensor(\n",
            "[[0.00997113 0.01642318 0.00978951 0.00345816 0.03897405 0.01937778\n",
            "  0.01458077 0.00963377 0.00428758 0.01675624 0.03352214 0.00775902\n",
            "  0.01482738 0.00767002 0.01869197 0.00981316 0.01943511 0.0102126\n",
            "  0.01242421 0.03117278 0.00898227 0.0335019  0.01689306 0.0200165\n",
            "  0.00656467 0.01429997 0.00506607 0.02005367 0.0270867  0.03204208\n",
            "  0.01859619 0.03940649 0.00576322 0.02395533 0.01077744 0.01814349\n",
            "  0.05525239 0.00348264 0.03152684 0.04165473 0.00935869 0.03066046\n",
            "  0.03434687 0.13903846 0.01342564 0.03132365]], shape=(1, 46), dtype=float32)\n",
            "Model: \"my_model_1\"\n",
            "_________________________________________________________________\n",
            " Layer (type)                Output Shape              Param #   \n",
            "=================================================================\n",
            " my_custom_layer_3 (MyCustom  multiple                 640064    \n",
            " Layer)                                                          \n",
            "                                                                 \n",
            " my_dropout_2 (MyDropout)    multiple                  0         \n",
            "                                                                 \n",
            " my_custom_layer_4 (MyCustom  multiple                 4160      \n",
            " Layer)                                                          \n",
            "                                                                 \n",
            " my_dropout_3 (MyDropout)    multiple                  0         \n",
            "                                                                 \n",
            " my_custom_layer_5 (MyCustom  multiple                 2990      \n",
            " Layer)                                                          \n",
            "                                                                 \n",
            " softmax_1 (Softmax)         multiple                  0         \n",
            "                                                                 \n",
            "=================================================================\n",
            "Total params: 647,214\n",
            "Trainable params: 647,214\n",
            "Non-trainable params: 0\n",
            "_________________________________________________________________\n"
          ]
        }
      ]
    },
    {
      "cell_type": "markdown",
      "metadata": {
        "id": "B4455pwkeMK6"
      },
      "source": [
        "#### Load the reuters dataset and define the class_names "
      ]
    },
    {
      "cell_type": "code",
      "execution_count": 9,
      "metadata": {
        "id": "DIStgLQUeMK7",
        "colab": {
          "base_uri": "https://localhost:8080/"
        },
        "outputId": "d889a7a9-7e84-47ea-a6fc-2d7c5bdf1b3c"
      },
      "outputs": [
        {
          "output_type": "stream",
          "name": "stdout",
          "text": [
            "Downloading data from https://storage.googleapis.com/tensorflow/tf-keras-datasets/reuters.npz\n",
            "2113536/2110848 [==============================] - 0s 0us/step\n",
            "2121728/2110848 [==============================] - 0s 0us/step\n"
          ]
        }
      ],
      "source": [
        "# Load the dataset\n",
        "\n",
        "from tensorflow.keras.datasets import reuters\n",
        "\n",
        "(train_data, train_labels), (test_data, test_labels) = reuters.load_data(num_words=10000)\n",
        "\n",
        "class_names = ['cocoa','grain','veg-oil','earn','acq','wheat','copper','housing','money-supply',\n",
        "   'coffee','sugar','trade','reserves','ship','cotton','carcass','crude','nat-gas',\n",
        "   'cpi','money-fx','interest','gnp','meal-feed','alum','oilseed','gold','tin',\n",
        "   'strategic-metal','livestock','retail','ipi','iron-steel','rubber','heat','jobs',\n",
        "   'lei','bop','zinc','orange','pet-chem','dlr','gas','silver','wpi','hog','lead']"
      ]
    },
    {
      "cell_type": "code",
      "execution_count": 10,
      "metadata": {
        "id": "jPeFfoIreMK9",
        "colab": {
          "base_uri": "https://localhost:8080/"
        },
        "outputId": "7a87b3f8-6df5-4cc0-fe13-663a9d1fa550"
      },
      "outputs": [
        {
          "output_type": "stream",
          "name": "stdout",
          "text": [
            "Label: earn\n"
          ]
        }
      ],
      "source": [
        "# Print the class of the first sample\n",
        "\n",
        "print(\"Label: {}\".format(class_names[train_labels[0]]))"
      ]
    },
    {
      "cell_type": "markdown",
      "metadata": {
        "id": "Xx2jLEYBeMLC"
      },
      "source": [
        "#### Get the dataset word index"
      ]
    },
    {
      "cell_type": "code",
      "execution_count": 11,
      "metadata": {
        "id": "j3yz1YIceMLE",
        "colab": {
          "base_uri": "https://localhost:8080/"
        },
        "outputId": "c366aa51-dcc9-4d9f-9542-259ede92d52b"
      },
      "outputs": [
        {
          "output_type": "stream",
          "name": "stdout",
          "text": [
            "Downloading data from https://storage.googleapis.com/tensorflow/tf-keras-datasets/reuters_word_index.json\n",
            "557056/550378 [==============================] - 0s 0us/step\n",
            "565248/550378 [==============================] - 0s 0us/step\n"
          ]
        }
      ],
      "source": [
        "# Load the Reuters word index\n",
        "\n",
        "word_to_index = reuters.get_word_index()\n",
        "\n",
        "invert_word_index = dict([(value, key) for (key, value) in word_to_index.items()])\n",
        "text_news = ' '.join([invert_word_index.get(i - 3, '?') for i in train_data[0]])"
      ]
    },
    {
      "cell_type": "code",
      "execution_count": 12,
      "metadata": {
        "id": "_f2v459GeMLF",
        "colab": {
          "base_uri": "https://localhost:8080/"
        },
        "outputId": "c9775502-37f2-433c-94bd-a44d891b0997"
      },
      "outputs": [
        {
          "output_type": "stream",
          "name": "stdout",
          "text": [
            "? ? ? said as a result of its december acquisition of space co it expects earnings per share in 1987 of 1 15 to 1 30 dlrs per share up from 70 cts in 1986 the company said pretax net should rise to nine to 10 mln dlrs from six mln dlrs in 1986 and rental operation revenues to 19 to 22 mln dlrs from 12 5 mln dlrs it said cash flow per share this year should be 2 50 to three dlrs reuter 3\n"
          ]
        }
      ],
      "source": [
        "# Print the first data example sentence\n",
        "\n",
        "print(text_news)"
      ]
    },
    {
      "cell_type": "markdown",
      "metadata": {
        "id": "37SVvdaueMLG"
      },
      "source": [
        "#### Preprocess the data"
      ]
    },
    {
      "cell_type": "code",
      "execution_count": 13,
      "metadata": {
        "id": "CKpfLRhbeMLI",
        "colab": {
          "base_uri": "https://localhost:8080/"
        },
        "outputId": "4241be64-9ab5-42d7-ce4f-c73b6380c978"
      },
      "outputs": [
        {
          "output_type": "stream",
          "name": "stdout",
          "text": [
            "Shape of x_train: (8982, 10000)\n",
            "Shape of x_test: (2246, 10000)\n"
          ]
        }
      ],
      "source": [
        "# Define a function that encodes the data into a 'bag of words' representation\n",
        "\n",
        "def bag_of_words(text_samples, elements=10000):\n",
        "    output = np.zeros((len(text_samples), elements))\n",
        "    for i, word in enumerate(text_samples):\n",
        "        output[i, word] = 1.\n",
        "    return output\n",
        "\n",
        "x_train = bag_of_words(train_data)\n",
        "x_test = bag_of_words(test_data)\n",
        "\n",
        "print(\"Shape of x_train:\", x_train.shape)\n",
        "print(\"Shape of x_test:\", x_test.shape)"
      ]
    },
    {
      "cell_type": "markdown",
      "metadata": {
        "id": "vAi_3y5QeMLJ"
      },
      "source": [
        "#### Define the loss function and optimizer\n",
        "\n"
      ]
    },
    {
      "cell_type": "code",
      "execution_count": 14,
      "metadata": {
        "id": "WoEkqT7qeMLK"
      },
      "outputs": [],
      "source": [
        "# Define the categorical cross entropy loss and Adam optimizer\n",
        "\n",
        "loss_object = tf.keras.losses.SparseCategoricalCrossentropy()\n",
        "\n",
        "def loss(model, x, y, wd):\n",
        "    kernel_variables = []\n",
        "    for l in model.layers:\n",
        "        for w in l.weights:\n",
        "            if 'kernel' in w.name:\n",
        "                kernel_variables.append(w)\n",
        "    wd_penalty = wd * tf.reduce_sum([tf.reduce_sum(tf.square(k)) for k in kernel_variables])\n",
        "    y_ = model(x)\n",
        "    return loss_object(y_true=y, y_pred=y_) + wd_penalty\n",
        "\n",
        "optimizer = tf.keras.optimizers.Adam(learning_rate=0.001)"
      ]
    },
    {
      "cell_type": "markdown",
      "metadata": {
        "id": "naAnlePceMLQ"
      },
      "source": [
        "#### Train the model"
      ]
    },
    {
      "cell_type": "code",
      "execution_count": 15,
      "metadata": {
        "id": "Ym5wkq-ueMLR"
      },
      "outputs": [],
      "source": [
        "# Define a function to compute the forward and backward pass\n",
        "\n",
        "def grad(model, inputs, targets, wd):\n",
        "    with tf.GradientTape() as tape:\n",
        "        loss_value = loss(model, inputs, targets, wd)\n",
        "    return loss_value, tape.gradient(loss_value, model.trainable_variables)"
      ]
    },
    {
      "cell_type": "code",
      "execution_count": 21,
      "metadata": {
        "id": "FdAvYDnNeMLT",
        "colab": {
          "base_uri": "https://localhost:8080/"
        },
        "outputId": "cc9f4a91-c562-4cd4-8003-30f345fdf29e"
      },
      "outputs": [
        {
          "output_type": "stream",
          "name": "stdout",
          "text": [
            "Epcoh 000: Loss: 3.282414, Accuracy: 49.466%\n",
            "Epcoh 001: Loss: 1.910908, Accuracy: 62.792%\n",
            "Epcoh 002: Loss: 1.812217, Accuracy: 66.823%\n",
            "Epcoh 003: Loss: 1.768328, Accuracy: 68.548%\n",
            "Epcoh 004: Loss: 1.757940, Accuracy: 69.717%\n",
            "Epcoh 005: Loss: 1.725726, Accuracy: 70.263%\n",
            "Epcoh 006: Loss: 1.701359, Accuracy: 70.675%\n",
            "Epcoh 007: Loss: 1.709436, Accuracy: 70.341%\n",
            "Epcoh 008: Loss: 1.703006, Accuracy: 70.786%\n",
            "Epcoh 009: Loss: 1.702446, Accuracy: 71.320%\n",
            "Duration :113.668\n"
          ]
        }
      ],
      "source": [
        "# Implement the training loop\n",
        "from tensorflow.keras.utils import to_categorical\n",
        "\n",
        "start_time = time.time()\n",
        "\n",
        "train_dataset = tf.data.Dataset.from_tensor_slices((x_train,train_labels))\n",
        "train_dataset = train_dataset.batch(32)\n",
        "\n",
        "# Keep result for plotting \n",
        "train_loss_results = []\n",
        "trains_accuracy_results = []\n",
        "\n",
        "num_epochs = 10 \n",
        "weight_decay = 0.005\n",
        "\n",
        "for epoch in range(num_epochs):\n",
        "  epoch_loss_avg = tf.keras.metrics.Mean()\n",
        "  epoch_accuracy = tf.keras.metrics.CategoricalAccuracy()\n",
        "\n",
        "  #Training loop \n",
        "  for x,y in train_dataset:\n",
        "    loss_value , grads = grad(model,x,y,weight_decay)\n",
        "    optimizer.apply_gradients(zip(grads,model.trainable_variables))\n",
        "\n",
        "    # compute current loss\n",
        "    epoch_loss_avg(loss_value)\n",
        "\n",
        "    # compare predicted label to actual label\n",
        "    epoch_accuracy(to_categorical(y),model(x))\n",
        "\n",
        "  # End epoch\n",
        "  train_loss_results.append(epoch_loss_avg.result())\n",
        "  trains_accuracy_results.append(epoch_accuracy.result())\n",
        "\n",
        "  print(\"Epoch {:03d}: Loss: {:03f}, Accuracy: {:.3%}\".format(epoch,\n",
        "                                                              epoch_loss_avg.result(),\n",
        "                                                              epoch_accuracy.result()))\n",
        "\n",
        "    \n",
        "print(\"Duration :{:.3f}\".format(time.time() - start_time))"
      ]
    },
    {
      "cell_type": "markdown",
      "metadata": {
        "id": "EzGA5CQZeMLU"
      },
      "source": [
        "#### Evaluate the model"
      ]
    },
    {
      "cell_type": "code",
      "execution_count": 22,
      "metadata": {
        "id": "BUBjFkLCeMLU"
      },
      "outputs": [],
      "source": [
        "# Create a Dataset object for the test set\n",
        "\n",
        "test_dataset = tf.data.Dataset.from_tensor_slices((x_test, test_labels))\n",
        "test_dataset = test_dataset.batch(32)"
      ]
    },
    {
      "cell_type": "code",
      "execution_count": 23,
      "metadata": {
        "id": "eLpqqFd8eMLX"
      },
      "outputs": [],
      "source": [
        "# Collect average loss and accuracy\n",
        "\n",
        "epoch_loss_avg = tf.keras.metrics.Mean()\n",
        "epoch_accuracy = tf.keras.metrics.CategoricalAccuracy()"
      ]
    },
    {
      "cell_type": "code",
      "execution_count": 24,
      "metadata": {
        "id": "wQiKDGr-eMLY",
        "colab": {
          "base_uri": "https://localhost:8080/"
        },
        "outputId": "8b6a3cf1-664f-47ff-f9ee-ebfb96395fdb"
      },
      "outputs": [
        {
          "output_type": "stream",
          "name": "stdout",
          "text": [
            "Test loss: 1.845\n",
            "Test accuracy: 67.186%\n"
          ]
        }
      ],
      "source": [
        "# Loop over the test set and print scores\n",
        "\n",
        "from tensorflow.keras.utils import to_categorical\n",
        "\n",
        "for x, y in test_dataset:\n",
        "    # Optimize the model\n",
        "    loss_value = loss(model, x, y, weight_decay)    \n",
        "    # Compute current loss\n",
        "    epoch_loss_avg(loss_value)  \n",
        "    # Compare predicted label to actual label\n",
        "    epoch_accuracy(to_categorical(y), model(x))\n",
        "\n",
        "print(\"Test loss: {:.3f}\".format(epoch_loss_avg.result().numpy()))\n",
        "print(\"Test accuracy: {:.3%}\".format(epoch_accuracy.result().numpy()))"
      ]
    },
    {
      "cell_type": "markdown",
      "metadata": {
        "id": "E9HcBLmpeMLZ"
      },
      "source": [
        "#### Plot the learning curves"
      ]
    },
    {
      "cell_type": "code",
      "execution_count": 26,
      "metadata": {
        "id": "xzBjAAoBeMLZ",
        "colab": {
          "base_uri": "https://localhost:8080/",
          "height": 558
        },
        "outputId": "c9307343-e816-41d3-b587-a201e8bcad23"
      },
      "outputs": [
        {
          "output_type": "display_data",
          "data": {
            "text/plain": [
              "<Figure size 864x576 with 2 Axes>"
            ],
            "image/png": "[encoded data removed]"
          },
          "metadata": {
            "needs_background": "light"
          }
        }
      ],
      "source": [
        "# Plot the training loss and accuracy\n",
        "\n",
        "fig, axes = plt.subplots(2, sharex=True, figsize=(12, 8))\n",
        "fig.suptitle('Training Metrics')\n",
        "\n",
        "axes[0].set_ylabel(\"Loss\", fontsize=14)\n",
        "axes[0].plot(train_loss_results)\n",
        "\n",
        "axes[1].set_ylabel(\"Accuracy\", fontsize=14)\n",
        "axes[1].set_xlabel(\"Epoch\", fontsize=14)\n",
        "axes[1].plot(trains_accuracy_results)\n",
        "plt.show()"
      ]
    },
    {
      "cell_type": "markdown",
      "metadata": {
        "id": "09LiGXAUeMLa"
      },
      "source": [
        "#### Predict from the model"
      ]
    },
    {
      "cell_type": "code",
      "execution_count": 27,
      "metadata": {
        "id": "W0rknJnoeMLa",
        "colab": {
          "base_uri": "https://localhost:8080/"
        },
        "outputId": "f662cfa1-b7fc-46f1-8e2a-f9fed5fdccf4"
      },
      "outputs": [
        {
          "output_type": "stream",
          "name": "stdout",
          "text": [
            "Prediction: earn\n",
            "     Label: earn\n"
          ]
        }
      ],
      "source": [
        "# Get the model prediction for an example input\n",
        "\n",
        "predicted_label = np.argmax(model(x_train[np.newaxis,0]),axis=1)[0]\n",
        "print(\"Prediction: {}\".format(class_names[predicted_label]))\n",
        "print(\"     Label: {}\".format(class_names[train_labels[0]]))"
      ]
    },
    {
      "cell_type": "markdown",
      "metadata": {
        "id": "VQ5nCPCaeMLa"
      },
      "source": [
        "***\n",
        "<a id=\"coding_tutorial_5\"></a>\n",
        "## tf.function decorator"
      ]
    },
    {
      "cell_type": "code",
      "execution_count": 28,
      "metadata": {
        "id": "XgEeiwTweMLb"
      },
      "outputs": [],
      "source": [
        "from tensorflow.keras.models import Model\n",
        "from tensorflow.keras.layers import Layer, Softmax\n",
        "from tensorflow.keras.utils import to_categorical\n",
        "from tensorflow.keras.datasets import reuters\n",
        "import numpy as np\n",
        "import matplotlib.pyplot as plt\n",
        "import time"
      ]
    },
    {
      "cell_type": "markdown",
      "metadata": {
        "id": "LO_bc_7ieMLb"
      },
      "source": [
        "#### Build the model"
      ]
    },
    {
      "cell_type": "code",
      "execution_count": 29,
      "metadata": {
        "id": "Q9quX9ZjeMLc"
      },
      "outputs": [],
      "source": [
        "# Initialize a new model\n",
        "\n",
        "model = MyModel(64,64,64)"
      ]
    },
    {
      "cell_type": "markdown",
      "metadata": {
        "id": "YBahkKPOeMLc"
      },
      "source": [
        "#### Redefine the grad function using the @tf.function decorator"
      ]
    },
    {
      "cell_type": "code",
      "execution_count": 30,
      "metadata": {
        "id": "BeU2FJT6eMLe"
      },
      "outputs": [],
      "source": [
        "# Use the @tf.function decorator\n",
        "\n",
        "@tf.function\n",
        "def grad(model, inputs, targets, wd):\n",
        "    with tf.GradientTape() as tape:\n",
        "        loss_value = loss(model, inputs, targets, wd)\n",
        "    return loss_value, tape.gradient(loss_value, model.trainable_variables)"
      ]
    },
    {
      "cell_type": "markdown",
      "metadata": {
        "id": "6F4LqCPseMLe"
      },
      "source": [
        "#### Train the model"
      ]
    },
    {
      "cell_type": "code",
      "execution_count": 31,
      "metadata": {
        "id": "Gob5e-tieMLf",
        "colab": {
          "base_uri": "https://localhost:8080/"
        },
        "outputId": "e914b6fa-95f5-46a3-fe37-23f9a329874d"
      },
      "outputs": [
        {
          "output_type": "stream",
          "name": "stdout",
          "text": [
            "Epoch 000: Loss: 2.504828, Accuracy: 56.290%\n",
            "Epoch 001: Loss: 1.982406, Accuracy: 64.318%\n",
            "Epoch 002: Loss: 1.877764, Accuracy: 67.513%\n",
            "Epoch 003: Loss: 1.821523, Accuracy: 68.214%\n",
            "Epoch 004: Loss: 1.787583, Accuracy: 68.949%\n",
            "Epoch 005: Loss: 1.756496, Accuracy: 69.606%\n",
            "Epoch 006: Loss: 1.751658, Accuracy: 69.829%\n",
            "Epoch 007: Loss: 1.738545, Accuracy: 70.530%\n",
            "Epoch 008: Loss: 1.730566, Accuracy: 70.730%\n",
            "Epoch 009: Loss: 1.703395, Accuracy: 70.330%\n",
            "Duration :89.693\n"
          ]
        }
      ],
      "source": [
        "# Re-run the training loop\n",
        "\n",
        "# Implement the training loop\n",
        "from tensorflow.keras.utils import to_categorical\n",
        "\n",
        "start_time = time.time()\n",
        "\n",
        "train_dataset = tf.data.Dataset.from_tensor_slices((x_train,train_labels))\n",
        "train_dataset = train_dataset.batch(32)\n",
        "\n",
        "# Keep result for plotting \n",
        "train_loss_results = []\n",
        "trains_accuracy_results = []\n",
        "\n",
        "num_epochs = 10 \n",
        "weight_decay = 0.005\n",
        "\n",
        "for epoch in range(num_epochs):\n",
        "  epoch_loss_avg = tf.keras.metrics.Mean()\n",
        "  epoch_accuracy = tf.keras.metrics.CategoricalAccuracy()\n",
        "\n",
        "  #Training loop \n",
        "  for x,y in train_dataset:\n",
        "    loss_value , grads = grad(model,x,y,weight_decay)\n",
        "    optimizer.apply_gradients(zip(grads,model.trainable_variables))\n",
        "\n",
        "    # compute current loss\n",
        "    epoch_loss_avg(loss_value)\n",
        "\n",
        "    # compare predicted label to actual label\n",
        "    epoch_accuracy(to_categorical(y),model(x))\n",
        "\n",
        "  # End epoch\n",
        "  train_loss_results.append(epoch_loss_avg.result())\n",
        "  trains_accuracy_results.append(epoch_accuracy.result())\n",
        "\n",
        "  print(\"Epoch {:03d}: Loss: {:03f}, Accuracy: {:.3%}\".format(epoch,\n",
        "                                                              epoch_loss_avg.result(),\n",
        "                                                              epoch_accuracy.result()))\n",
        "\n",
        "    \n",
        "print(\"Duration :{:.3f}\".format(time.time() - start_time))"
      ]
    },
    {
      "cell_type": "markdown",
      "metadata": {
        "id": "ohMxwxnieMLg"
      },
      "source": [
        "#### Print the autograph code"
      ]
    },
    {
      "cell_type": "code",
      "execution_count": 32,
      "metadata": {
        "id": "PIAM852DeMLh",
        "colab": {
          "base_uri": "https://localhost:8080/"
        },
        "outputId": "bc5dbb85-973c-4d53-9cf6-1c1d7b49c54f"
      },
      "outputs": [
        {
          "output_type": "stream",
          "name": "stdout",
          "text": [
            "def tf__grad(model, inputs, targets, wd):\n",
            "    with ag__.FunctionScope('grad', 'fscope', ag__.ConversionOptions(recursive=True, user_requested=True, optional_features=(), internal_convert_user_code=True)) as fscope:\n",
            "        do_return = False\n",
            "        retval_ = ag__.UndefinedReturnValue()\n",
            "        with ag__.ld(tf).GradientTape() as tape:\n",
            "            loss_value = ag__.converted_call(ag__.ld(loss), (ag__.ld(model), ag__.ld(inputs), ag__.ld(targets), ag__.ld(wd)), None, fscope)\n",
            "        try:\n",
            "            do_return = True\n",
            "            retval_ = (ag__.ld(loss_value), ag__.converted_call(ag__.ld(tape).gradient, (ag__.ld(loss_value), ag__.ld(model).trainable_variables), None, fscope))\n",
            "        except:\n",
            "            do_return = False\n",
            "            raise\n",
            "        return fscope.ret(retval_, do_return)\n",
            "\n"
          ]
        }
      ],
      "source": [
        "# Use tf.autograph.to_code to see the generated code\n",
        "\n",
        "print(tf.autograph.to_code(grad.python_function))"
      ]
    }
  ],
  "metadata": {
    "kernelspec": {
      "display_name": "Python 3",
      "language": "python",
      "name": "python3"
    },
    "language_info": {
      "codemirror_mode": {
        "name": "ipython",
        "version": 3
      },
      "file_extension": ".py",
      "mimetype": "text/x-python",
      "name": "python",
      "nbconvert_exporter": "python",
      "pygments_lexer": "ipython3",
      "version": "3.7.1"
    },
    "colab": {
      "name": "week4.ipynb",
      "provenance": [],
      "collapsed_sections": [],
      "include_colab_link": true
    }
  },
  "nbformat": 4,
  "nbformat_minor": 0
}