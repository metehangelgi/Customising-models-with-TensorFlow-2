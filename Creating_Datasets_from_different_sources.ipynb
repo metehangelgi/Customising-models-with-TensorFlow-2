{
  "nbformat": 4,
  "nbformat_minor": 0,
  "metadata": {
    "kernelspec": {
      "display_name": "Python 3",
      "language": "python",
      "name": "python3"
    },
    "language_info": {
      "codemirror_mode": {
        "name": "ipython",
        "version": 3
      },
      "file_extension": ".py",
      "mimetype": "text/x-python",
      "name": "python",
      "nbconvert_exporter": "python",
      "pygments_lexer": "ipython3",
      "version": "3.7.1"
    },
    "colab": {
      "name": "Creating Datasets from different sources.ipynb",
      "provenance": [],
      "collapsed_sections": [],
      "include_colab_link": true
    }
  },
  "cells": [
    {
      "cell_type": "markdown",
      "metadata": {
        "id": "view-in-github",
        "colab_type": "text"
      },
      "source": [
        "<a href=\"https://colab.research.google.com/github/metehangelgi/Customising-models-with-TensorFlow-2/blob/master/Creating_Datasets_from_different_sources.ipynb\" target=\"_parent\"><img src=\"https://colab.research.google.com/assets/colab-badge.svg\" alt=\"Open In Colab\"/></a>"
      ]
    },
    {
      "cell_type": "markdown",
      "metadata": {
        "id": "0uJPGabQE1hL"
      },
      "source": [
        "# Creating Datasets from different sources\n",
        "\n",
        "In this reading notebook, we will explore a few of the ways in which we can load data into a `tf.data.Dataset` object."
      ]
    },
    {
      "cell_type": "code",
      "metadata": {
        "id": "IamOsgA-E1hO",
        "colab": {
          "base_uri": "https://localhost:8080/"
        },
        "outputId": "ea7f0ead-c082-4e70-f5ab-3d3cef075071"
      },
      "source": [
        "import tensorflow as tf\n",
        "print(tf.__version__)"
      ],
      "execution_count": 1,
      "outputs": [
        {
          "output_type": "stream",
          "name": "stdout",
          "text": [
            "2.8.2\n"
          ]
        }
      ]
    },
    {
      "cell_type": "markdown",
      "metadata": {
        "id": "re3HNtebE1hU"
      },
      "source": [
        "## The `from_tensor_slices` and `from_tensors` methods\n",
        "\n",
        "We will start by looking at the `from_tensor_slices` and the `from_tensors` methods.\n",
        "\n",
        "Both static methods are used to create datasets from Tensors or Tensor-like objects, such as numpy arrays or python lists. We can also pass in tuples and dicts of arrays or lists. The main distinction between the `from_tensor_slices` function and the `from_tensors` function is that the `from_tensor_slices` method will interpret the first dimension of the input data as the number of elements in the dataset, whereas the `from_tensors` method always results in a Dataset with a single element, containing the Tensor or tuple of Tensors passed."
      ]
    },
    {
      "cell_type": "code",
      "metadata": {
        "id": "DHoIolW9E1hV",
        "colab": {
          "base_uri": "https://localhost:8080/"
        },
        "outputId": "4fcc2b22-c796-4258-ade9-81e9150da8ad"
      },
      "source": [
        "# Create a random tensor with shape (3, 2)\n",
        "\n",
        "example_tensor = tf.random.uniform([3,2])\n",
        "print(example_tensor.shape)"
      ],
      "execution_count": 2,
      "outputs": [
        {
          "output_type": "stream",
          "name": "stdout",
          "text": [
            "(3, 2)\n"
          ]
        }
      ]
    },
    {
      "cell_type": "code",
      "source": [
        "example_tensor"
      ],
      "metadata": {
        "colab": {
          "base_uri": "https://localhost:8080/"
        },
        "id": "U8LrhsWrXwfH",
        "outputId": "03fd196f-ae32-4a9d-be4c-71ea76a527aa"
      },
      "execution_count": 4,
      "outputs": [
        {
          "output_type": "execute_result",
          "data": {
            "text/plain": [
              "<tf.Tensor: shape=(3, 2), dtype=float32, numpy=\n",
              "array([[0.24484038, 0.6560105 ],\n",
              "       [0.706265  , 0.5542599 ],\n",
              "       [0.9797604 , 0.49706507]], dtype=float32)>"
            ]
          },
          "metadata": {},
          "execution_count": 4
        }
      ]
    },
    {
      "cell_type": "code",
      "metadata": {
        "id": "r1CUPvKBE1hb"
      },
      "source": [
        "# Create two Datasets, using each static method\n",
        "\n",
        "dataset1 = tf.data.Dataset.from_tensor_slices(example_tensor)\n",
        "dataset2 = tf.data.Dataset.from_tensors(example_tensor)"
      ],
      "execution_count": 3,
      "outputs": []
    },
    {
      "cell_type": "code",
      "metadata": {
        "id": "GwgiDLEUE1hg",
        "colab": {
          "base_uri": "https://localhost:8080/"
        },
        "outputId": "77a921f8-6727-4d78-d8f8-1a05d6ca608d"
      },
      "source": [
        "# Print the element_spec for each\n",
        "\n",
        "print(dataset1.element_spec)\n",
        "print(dataset2.element_spec)"
      ],
      "execution_count": 5,
      "outputs": [
        {
          "output_type": "stream",
          "name": "stdout",
          "text": [
            "TensorSpec(shape=(2,), dtype=tf.float32, name=None)\n",
            "TensorSpec(shape=(3, 2), dtype=tf.float32, name=None)\n"
          ]
        }
      ]
    },
    {
      "cell_type": "markdown",
      "metadata": {
        "id": "g6LtkOwfE1hm"
      },
      "source": [
        "As seen above, creating the Dataset using the `from_tensor_slices` method slices the given array or Tensor along the first dimension to produce a set of elements for the Dataset.\n",
        "\n",
        "This means that although we could pass any Tensor - or tuple of Tensors - to the `from_tensors` method, the same cannot be said of the `from_tensor_slices` method, which has the additional requirement that each Tensor in the list has the same size in the zeroth dimension."
      ]
    },
    {
      "cell_type": "code",
      "metadata": {
        "id": "Jy1lNSpxE1ho"
      },
      "source": [
        "# Create three Tensors with different shapes\n",
        "\n",
        "tensor1 = tf.random.uniform([10,2,2])\n",
        "tensor2 = tf.random.uniform([10,1])\n",
        "tensor3 = tf.random.uniform([9,2,2])"
      ],
      "execution_count": 6,
      "outputs": []
    },
    {
      "cell_type": "markdown",
      "metadata": {
        "id": "fWSVkqQ1E1hs"
      },
      "source": [
        "We cannot create a Dataset using the `from_tensor_slices` method from a list of `tensor1` and `tensor3` since they do not have the same size in the first dimension:"
      ]
    },
    {
      "cell_type": "code",
      "metadata": {
        "id": "eQmd5FwcE1hu"
      },
      "source": [
        "# Try to create a Dataset from tensor1 and tensor3 using from_tensor_slices - this will raise an error\n",
        "\n",
        "dataset = tf.data.Dataset.from_tensor_slices((tensor1, tensor3))"
      ],
      "execution_count": null,
      "outputs": []
    },
    {
      "cell_type": "markdown",
      "metadata": {
        "id": "kdVMr-0JE1hy"
      },
      "source": [
        "However, we can of course create a Dataset from this tuple using the `from_tensors` method, which interprets the tuple as a single element."
      ]
    },
    {
      "cell_type": "code",
      "metadata": {
        "scrolled": true,
        "id": "ZJ1zxcvtE1hz",
        "colab": {
          "base_uri": "https://localhost:8080/"
        },
        "outputId": "e43b63d0-3c76-4057-c33d-4dac6a833547"
      },
      "source": [
        "# Create a Dataset from tensor1 and tensor3 using from_tensors\n",
        "\n",
        "dataset = tf.data.Dataset.from_tensors((tensor1, tensor3))\n",
        "dataset.element_spec"
      ],
      "execution_count": 8,
      "outputs": [
        {
          "output_type": "execute_result",
          "data": {
            "text/plain": [
              "(TensorSpec(shape=(10, 2, 2), dtype=tf.float32, name=None),\n",
              " TensorSpec(shape=(9, 2, 2), dtype=tf.float32, name=None))"
            ]
          },
          "metadata": {},
          "execution_count": 8
        }
      ]
    },
    {
      "cell_type": "markdown",
      "metadata": {
        "id": "nckPFufZE1h7"
      },
      "source": [
        "Although `tensor1` and `tensor2` do not have the same shape, or even same rank (number of dimensions), we can still use the `from_tensor_slices` method to form a dataset from a list of these tensors, since they have the same size in the first dimension."
      ]
    },
    {
      "cell_type": "code",
      "metadata": {
        "id": "XWcBkyOkE1h8",
        "colab": {
          "base_uri": "https://localhost:8080/"
        },
        "outputId": "ae2187db-49f4-47aa-837a-c6c7845041f1"
      },
      "source": [
        "# Create a Dataset from tensor1 and tensor2\n",
        "\n",
        "dataset = tf.data.Dataset.from_tensor_slices((tensor1, tensor2))\n",
        "dataset.element_spec"
      ],
      "execution_count": 9,
      "outputs": [
        {
          "output_type": "execute_result",
          "data": {
            "text/plain": [
              "(TensorSpec(shape=(2, 2), dtype=tf.float32, name=None),\n",
              " TensorSpec(shape=(1,), dtype=tf.float32, name=None))"
            ]
          },
          "metadata": {},
          "execution_count": 9
        }
      ]
    },
    {
      "cell_type": "markdown",
      "metadata": {
        "id": "GZISXg6XE1h_"
      },
      "source": [
        "In the above, the first dimension was interpreted as the number of elements in the Dataset, as expected."
      ]
    },
    {
      "cell_type": "markdown",
      "metadata": {
        "id": "Wwy7hmU4E1iA"
      },
      "source": [
        "### Creating Datasets from numpy arrays"
      ]
    },
    {
      "cell_type": "markdown",
      "metadata": {
        "id": "-y2DNrSHE1iB"
      },
      "source": [
        "We can also use the `from_tensor_slices` and `from_tensors` methods to create Datasets from numpy arrays. In fact, behind the scenes, the numpy array is converted to a set of `tf.constant` operations to populate the Tensor in the TensorFlow graph."
      ]
    },
    {
      "cell_type": "code",
      "metadata": {
        "id": "kLyg78gZE1iC",
        "colab": {
          "base_uri": "https://localhost:8080/"
        },
        "outputId": "4a939f19-d195-4435-dbd9-47ba15425ee9"
      },
      "source": [
        "# Create a numpy array dataset\n",
        "\n",
        "import numpy as np\n",
        "\n",
        "numpy_array = np.array([[[1, 2], [3, 4]], [[5, 6], [7, 8]], [[9, 10], [11, 12]]])\n",
        "print(numpy_array.shape)"
      ],
      "execution_count": 10,
      "outputs": [
        {
          "output_type": "stream",
          "name": "stdout",
          "text": [
            "(3, 2, 2)\n"
          ]
        }
      ]
    },
    {
      "cell_type": "code",
      "metadata": {
        "id": "HOcEMAckE1iF",
        "colab": {
          "base_uri": "https://localhost:8080/"
        },
        "outputId": "2ff3f271-5b04-44bf-a75c-db1536763e2c"
      },
      "source": [
        "# Create two Datasets, using each static method\n",
        "\n",
        "dataset1 = tf.data.Dataset.from_tensor_slices(numpy_array)\n",
        "dataset2 = tf.data.Dataset.from_tensors(numpy_array)\n",
        "\n",
        "print(dataset1.element_spec)\n",
        "print(dataset2.element_spec)"
      ],
      "execution_count": 11,
      "outputs": [
        {
          "output_type": "stream",
          "name": "stdout",
          "text": [
            "TensorSpec(shape=(2, 2), dtype=tf.int64, name=None)\n",
            "TensorSpec(shape=(3, 2, 2), dtype=tf.int64, name=None)\n"
          ]
        }
      ]
    },
    {
      "cell_type": "markdown",
      "metadata": {
        "id": "hHusuf1yE1iH"
      },
      "source": [
        "As before, `from_tensors` interprets the entire array as a single element, whereas `from_tensor_slices` slices the array along the first dimension to form the elements."
      ]
    },
    {
      "cell_type": "markdown",
      "metadata": {
        "id": "dcpxpp0YE1iI"
      },
      "source": [
        "### Creating Datasets from pandas DataFrames\n",
        "A pandas DataFrame can be easily converted to a Dataset using the `from_tensor_slices` method. \n",
        "#### The Balloons dataset\n",
        "A pandas DataFrame can be loaded from a CSV file. We will use the [Balloons dataset](https://archive.ics.uci.edu/ml/datasets/Balloons) to demonstrate. This dataset is stored in a CSV file, and contains a list of attributes describing instances of a balloon inflation experiment, such as the colour and size of the balloon, the age of the person who performed the attempted inflation, and the way in which they did it. Finally, there is the target column \"Inflated\", which is either `T` for True, or `F` for False, indicating whether or not the person managed to inflate the balloon."
      ]
    },
    {
      "cell_type": "markdown",
      "metadata": {
        "id": "qeJYtJW7E-ld"
      },
      "source": [
        "#### Import the data\n",
        "\n",
        "The CSV file for this dataset that is required for this notebook can be downloaded from the following link:\n",
        "\n",
        "https://drive.google.com/open?id=1bKr-kqhHM9DJBggdmhZ2NFsPX9O4aaYO\n",
        "\n",
        "You should store the data in Drive for use in this Colab notebook."
      ]
    },
    {
      "cell_type": "code",
      "metadata": {
        "id": "HxLmUFcgFhGM",
        "colab": {
          "base_uri": "https://localhost:8080/"
        },
        "outputId": "f4515157-b5b4-413c-af32-94d2048cfb93"
      },
      "source": [
        "# Run this cell to connect to your Drive folder\n",
        "\n",
        "from google.colab import drive\n",
        "drive.mount('/content/gdrive')"
      ],
      "execution_count": 12,
      "outputs": [
        {
          "output_type": "stream",
          "name": "stdout",
          "text": [
            "Mounted at /content/gdrive\n"
          ]
        }
      ]
    },
    {
      "cell_type": "code",
      "metadata": {
        "id": "4ZIyO0ioE1iJ"
      },
      "source": [
        "# Load the CSV file into a Dataframe\n",
        "\n",
        "import pandas as pd\n",
        "\n",
        "pandas_dataframe = pd.read_csv('/content/gdrive/MyDrive/UniversityTerms/summer2022/Tensorflow-customizing/balloon_dataset.csv')"
      ],
      "execution_count": 13,
      "outputs": []
    },
    {
      "cell_type": "code",
      "metadata": {
        "id": "z7w4Oqm7E1iL",
        "colab": {
          "base_uri": "https://localhost:8080/",
          "height": 204
        },
        "outputId": "1eb53b9a-9355-48e8-cbbf-c9bda4f242ef"
      },
      "source": [
        "# Inspect the data\n",
        "\n",
        "pandas_dataframe.head()"
      ],
      "execution_count": 14,
      "outputs": [
        {
          "output_type": "execute_result",
          "data": {
            "text/plain": [
              "   Colour   Size      Act    Age Inflated\n",
              "0  YELLOW  SMALL  STRETCH  ADULT        T\n",
              "1  YELLOW  SMALL  STRETCH  ADULT        T\n",
              "2  YELLOW  SMALL  STRETCH  CHILD        F\n",
              "3  YELLOW  SMALL      DIP  ADULT        F\n",
              "4  YELLOW  SMALL      DIP  CHILD        F"
            ],
            "text/html": [
              "\n",
              "  <div id=\"df-116d7d32-0caf-438c-9f6e-98c9969b0dfa\">\n",
              "    <div class=\"colab-df-container\">\n",
              "      <div>\n",
              "<style scoped>\n",
              "    .dataframe tbody tr th:only-of-type {\n",
              "        vertical-align: middle;\n",
              "    }\n",
              "\n",
              "    .dataframe tbody tr th {\n",
              "        vertical-align: top;\n",
              "    }\n",
              "\n",
              "    .dataframe thead th {\n",
              "        text-align: right;\n",
              "    }\n",
              "</style>\n",
              "<table border=\"1\" class=\"dataframe\">\n",
              "  <thead>\n",
              "    <tr style=\"text-align: right;\">\n",
              "      <th></th>\n",
              "      <th>Colour</th>\n",
              "      <th>Size</th>\n",
              "      <th>Act</th>\n",
              "      <th>Age</th>\n",
              "      <th>Inflated</th>\n",
              "    </tr>\n",
              "  </thead>\n",
              "  <tbody>\n",
              "    <tr>\n",
              "      <th>0</th>\n",
              "      <td>YELLOW</td>\n",
              "      <td>SMALL</td>\n",
              "      <td>STRETCH</td>\n",
              "      <td>ADULT</td>\n",
              "      <td>T</td>\n",
              "    </tr>\n",
              "    <tr>\n",
              "      <th>1</th>\n",
              "      <td>YELLOW</td>\n",
              "      <td>SMALL</td>\n",
              "      <td>STRETCH</td>\n",
              "      <td>ADULT</td>\n",
              "      <td>T</td>\n",
              "    </tr>\n",
              "    <tr>\n",
              "      <th>2</th>\n",
              "      <td>YELLOW</td>\n",
              "      <td>SMALL</td>\n",
              "      <td>STRETCH</td>\n",
              "      <td>CHILD</td>\n",
              "      <td>F</td>\n",
              "    </tr>\n",
              "    <tr>\n",
              "      <th>3</th>\n",
              "      <td>YELLOW</td>\n",
              "      <td>SMALL</td>\n",
              "      <td>DIP</td>\n",
              "      <td>ADULT</td>\n",
              "      <td>F</td>\n",
              "    </tr>\n",
              "    <tr>\n",
              "      <th>4</th>\n",
              "      <td>YELLOW</td>\n",
              "      <td>SMALL</td>\n",
              "      <td>DIP</td>\n",
              "      <td>CHILD</td>\n",
              "      <td>F</td>\n",
              "    </tr>\n",
              "  </tbody>\n",
              "</table>\n",
              "</div>\n",
              "      <button class=\"colab-df-convert\" onclick=\"convertToInteractive('df-116d7d32-0caf-438c-9f6e-98c9969b0dfa')\"\n",
              "              title=\"Convert this dataframe to an interactive table.\"\n",
              "              style=\"display:none;\">\n",
              "        \n",
              "  <svg xmlns=\"http://www.w3.org/2000/svg\" height=\"24px\"viewBox=\"0 0 24 24\"\n",
              "       width=\"24px\">\n",
              "    <path d=\"M0 0h24v24H0V0z\" fill=\"none\"/>\n",
              "    <path d=\"M18.56 5.44l.94 2.06.94-2.06 2.06-.94-2.06-.94-.94-2.06-.94 2.06-2.06.94zm-11 1L8.5 8.5l.94-2.06 2.06-.94-2.06-.94L8.5 2.5l-.94 2.06-2.06.94zm10 10l.94 2.06.94-2.06 2.06-.94-2.06-.94-.94-2.06-.94 2.06-2.06.94z\"/><path d=\"M17.41 7.96l-1.37-1.37c-.4-.4-.92-.59-1.43-.59-.52 0-1.04.2-1.43.59L10.3 9.45l-7.72 7.72c-.78.78-.78 2.05 0 2.83L4 21.41c.39.39.9.59 1.41.59.51 0 1.02-.2 1.41-.59l7.78-7.78 2.81-2.81c.8-.78.8-2.07 0-2.86zM5.41 20L4 18.59l7.72-7.72 1.47 1.35L5.41 20z\"/>\n",
              "  </svg>\n",
              "      </button>\n",
              "      \n",
              "  <style>\n",
              "    .colab-df-container {\n",
              "      display:flex;\n",
              "      flex-wrap:wrap;\n",
              "      gap: 12px;\n",
              "    }\n",
              "\n",
              "    .colab-df-convert {\n",
              "      background-color: #E8F0FE;\n",
              "      border: none;\n",
              "      border-radius: 50%;\n",
              "      cursor: pointer;\n",
              "      display: none;\n",
              "      fill: #1967D2;\n",
              "      height: 32px;\n",
              "      padding: 0 0 0 0;\n",
              "      width: 32px;\n",
              "    }\n",
              "\n",
              "    .colab-df-convert:hover {\n",
              "      background-color: #E2EBFA;\n",
              "      box-shadow: 0px 1px 2px rgba(60, 64, 67, 0.3), 0px 1px 3px 1px rgba(60, 64, 67, 0.15);\n",
              "      fill: #174EA6;\n",
              "    }\n",
              "\n",
              "    [theme=dark] .colab-df-convert {\n",
              "      background-color: #3B4455;\n",
              "      fill: #D2E3FC;\n",
              "    }\n",
              "\n",
              "    [theme=dark] .colab-df-convert:hover {\n",
              "      background-color: #434B5C;\n",
              "      box-shadow: 0px 1px 3px 1px rgba(0, 0, 0, 0.15);\n",
              "      filter: drop-shadow(0px 1px 2px rgba(0, 0, 0, 0.3));\n",
              "      fill: #FFFFFF;\n",
              "    }\n",
              "  </style>\n",
              "\n",
              "      <script>\n",
              "        const buttonEl =\n",
              "          document.querySelector('#df-116d7d32-0caf-438c-9f6e-98c9969b0dfa button.colab-df-convert');\n",
              "        buttonEl.style.display =\n",
              "          google.colab.kernel.accessAllowed ? 'block' : 'none';\n",
              "\n",
              "        async function convertToInteractive(key) {\n",
              "          const element = document.querySelector('#df-116d7d32-0caf-438c-9f6e-98c9969b0dfa');\n",
              "          const dataTable =\n",
              "            await google.colab.kernel.invokeFunction('convertToInteractive',\n",
              "                                                     [key], {});\n",
              "          if (!dataTable) return;\n",
              "\n",
              "          const docLinkHtml = 'Like what you see? Visit the ' +\n",
              "            '<a target=\"_blank\" href=https://colab.research.google.com/notebooks/data_table.ipynb>data table notebook</a>'\n",
              "            + ' to learn more about interactive tables.';\n",
              "          element.innerHTML = '';\n",
              "          dataTable['output_type'] = 'display_data';\n",
              "          await google.colab.output.renderOutput(dataTable, element);\n",
              "          const docLink = document.createElement('div');\n",
              "          docLink.innerHTML = docLinkHtml;\n",
              "          element.appendChild(docLink);\n",
              "        }\n",
              "      </script>\n",
              "    </div>\n",
              "  </div>\n",
              "  "
            ]
          },
          "metadata": {},
          "execution_count": 14
        }
      ]
    },
    {
      "cell_type": "markdown",
      "metadata": {
        "id": "c6qEWNY7E1iP"
      },
      "source": [
        "To convert the DataFrame to a Dataset, we first convert the DataFrame to a dictionary. By doing this, we preserve the column names as the dictionary labels.\n",
        "\n",
        "**Note**: A Dataset can be formed from either a tuple or a dict of Tensors. We saw above a number of Datasets being formed from a tuple. The only distinction for a Dataset formed from a dict is that the Dataset items will be dicts accessed by key, rather than tuples accessed by index."
      ]
    },
    {
      "cell_type": "code",
      "metadata": {
        "id": "G8PK4Do6E1iQ",
        "colab": {
          "base_uri": "https://localhost:8080/"
        },
        "outputId": "5bc32e73-8d30-4d93-f8d0-07c48214017c"
      },
      "source": [
        "# Convert the DataFrame to a dict\n",
        "\n",
        "dataframe_dict = dict(pandas_dataframe)\n",
        "print(dataframe_dict.keys())"
      ],
      "execution_count": 15,
      "outputs": [
        {
          "output_type": "stream",
          "name": "stdout",
          "text": [
            "dict_keys(['Colour', 'Size', 'Act', 'Age', 'Inflated'])\n"
          ]
        }
      ]
    },
    {
      "cell_type": "markdown",
      "metadata": {
        "id": "C50FYqU_E1iS"
      },
      "source": [
        "We can now run the `from_tensor_slices` method on this `dict` and print the resulting Dataset `element_spec`, as well as an example element. Note that since we formed the Dataset from a `dict`, we see the column (dictionary) names in the `element_spec`."
      ]
    },
    {
      "cell_type": "code",
      "metadata": {
        "id": "JebvTVrxE1iT"
      },
      "source": [
        "# Create the Dataset\n",
        "\n",
        "pandas_dataset = tf.data.Dataset.from_tensor_slices(dataframe_dict)"
      ],
      "execution_count": 16,
      "outputs": []
    },
    {
      "cell_type": "code",
      "metadata": {
        "id": "mqtTC4QXE1iV",
        "colab": {
          "base_uri": "https://localhost:8080/"
        },
        "outputId": "c2bfecb8-8b9c-4967-fa26-7369e533fe1e"
      },
      "source": [
        "# View the Dataset element_spec\n",
        "\n",
        "pandas_dataset.element_spec"
      ],
      "execution_count": 17,
      "outputs": [
        {
          "output_type": "execute_result",
          "data": {
            "text/plain": [
              "{'Colour': TensorSpec(shape=(), dtype=tf.string, name=None),\n",
              " 'Size': TensorSpec(shape=(), dtype=tf.string, name=None),\n",
              " 'Act': TensorSpec(shape=(), dtype=tf.string, name=None),\n",
              " 'Age': TensorSpec(shape=(), dtype=tf.string, name=None),\n",
              " 'Inflated': TensorSpec(shape=(), dtype=tf.string, name=None)}"
            ]
          },
          "metadata": {},
          "execution_count": 17
        }
      ]
    },
    {
      "cell_type": "code",
      "metadata": {
        "id": "UibwrPxeE1iY",
        "colab": {
          "base_uri": "https://localhost:8080/"
        },
        "outputId": "e77fde68-9147-4cd7-d56a-76db305cc426"
      },
      "source": [
        "# Iterate the Dataset\n",
        "\n",
        "next(iter(pandas_dataset))"
      ],
      "execution_count": 18,
      "outputs": [
        {
          "output_type": "execute_result",
          "data": {
            "text/plain": [
              "{'Colour': <tf.Tensor: shape=(), dtype=string, numpy=b'YELLOW'>,\n",
              " 'Size': <tf.Tensor: shape=(), dtype=string, numpy=b'SMALL'>,\n",
              " 'Act': <tf.Tensor: shape=(), dtype=string, numpy=b'STRETCH'>,\n",
              " 'Age': <tf.Tensor: shape=(), dtype=string, numpy=b'ADULT'>,\n",
              " 'Inflated': <tf.Tensor: shape=(), dtype=string, numpy=b'T'>}"
            ]
          },
          "metadata": {},
          "execution_count": 18
        }
      ]
    },
    {
      "cell_type": "markdown",
      "metadata": {
        "id": "4awCWEw6E1ia"
      },
      "source": [
        "## Creating Datasets directly from CSV Files\n",
        "\n",
        "The TensorFlow experimental library contains a variety of functions and classes contributed by the community that may not be ready for release into the main TensorFlow library in their immediate form, but which may be included in TensorFlow in the future. One such useful experimental function is the `tf.data.experimental.make_csv_dataset` function. This allows us to read CSV data from the disk directly into a Dataset object.\n",
        "\n",
        "We will run the function on the example CSV file from disk, and specify the batch size and the name of the target column, which is used to structure the Dataset into an `(input, target)` tuple.\n",
        "\n",
        "**Note:** Because of the ephemeral nature of the `experimental` package, you may well get warnings printed in the console when using a function or class contained in the package for the first time."
      ]
    },
    {
      "cell_type": "code",
      "metadata": {
        "scrolled": false,
        "id": "eag-PR5gE1ib"
      },
      "source": [
        "# Create the Dataset from the CSV file\n",
        "\n",
        "csv_dataset = tf.data.experimental.make_csv_dataset('/content/gdrive/MyDrive/UniversityTerms/summer2022/Tensorflow-customizing/balloon_dataset.csv',\n",
        "                                                    batch_size=1,\n",
        "                                                    label_name='Inflated')"
      ],
      "execution_count": 19,
      "outputs": []
    },
    {
      "cell_type": "markdown",
      "metadata": {
        "id": "ZY8jzLQyE1ie"
      },
      "source": [
        "To check that we've loaded our Dataset correctly, let's print the `element_spec`:"
      ]
    },
    {
      "cell_type": "code",
      "metadata": {
        "id": "NPArGcDwE1ie",
        "colab": {
          "base_uri": "https://localhost:8080/"
        },
        "outputId": "d7349d9b-dbcd-4c3a-e603-07b3dd46631e"
      },
      "source": [
        "# View the Dataset element_spec\n",
        "\n",
        "csv_dataset.element_spec"
      ],
      "execution_count": 21,
      "outputs": [
        {
          "output_type": "execute_result",
          "data": {
            "text/plain": [
              "(OrderedDict([('Colour', TensorSpec(shape=(1,), dtype=tf.string, name=None)),\n",
              "              ('Size', TensorSpec(shape=(1,), dtype=tf.string, name=None)),\n",
              "              ('Act', TensorSpec(shape=(1,), dtype=tf.string, name=None)),\n",
              "              ('Age', TensorSpec(shape=(1,), dtype=tf.string, name=None))]),\n",
              " TensorSpec(shape=(1,), dtype=tf.string, name=None))"
            ]
          },
          "metadata": {},
          "execution_count": 21
        }
      ]
    },
    {
      "cell_type": "code",
      "metadata": {
        "scrolled": true,
        "id": "zBtiqdv1E1ih",
        "colab": {
          "base_uri": "https://localhost:8080/"
        },
        "outputId": "39e0b3c5-4fe7-4893-f623-f4bdaf8e91d5"
      },
      "source": [
        "# Iterate the Dataset\n",
        "\n",
        "next(iter(csv_dataset))"
      ],
      "execution_count": 22,
      "outputs": [
        {
          "output_type": "execute_result",
          "data": {
            "text/plain": [
              "(OrderedDict([('Colour',\n",
              "               <tf.Tensor: shape=(1,), dtype=string, numpy=array([b'PURPLE'], dtype=object)>),\n",
              "              ('Size',\n",
              "               <tf.Tensor: shape=(1,), dtype=string, numpy=array([b'SMALL'], dtype=object)>),\n",
              "              ('Act',\n",
              "               <tf.Tensor: shape=(1,), dtype=string, numpy=array([b'DIP'], dtype=object)>),\n",
              "              ('Age',\n",
              "               <tf.Tensor: shape=(1,), dtype=string, numpy=array([b'ADULT'], dtype=object)>)]),\n",
              " <tf.Tensor: shape=(1,), dtype=string, numpy=array([b'F'], dtype=object)>)"
            ]
          },
          "metadata": {},
          "execution_count": 22
        }
      ]
    },
    {
      "cell_type": "markdown",
      "metadata": {
        "id": "iQQEhy3JE1ij"
      },
      "source": [
        "Note that in the above Dataset, the target column `Inflated` does not have a key, since it is uniquely accessible as the second element of the tuple, whereas the attributes which reside as a dictionary of Tensors in the first element retain their labels so we can distinguish them."
      ]
    },
    {
      "cell_type": "markdown",
      "metadata": {
        "id": "LOF2ZisTE1ik"
      },
      "source": [
        "## Further reading and resources\n",
        "\n",
        "* https://www.tensorflow.org/guide/data\n",
        "* https://www.tensorflow.org/tutorials/load_data/csv\n",
        "* https://www.tensorflow.org/tutorials/load_data/pandas_dataframe\n",
        "* https://www.tensorflow.org/api_docs/python/tf/data/Dataset"
      ]
    }
  ]
}